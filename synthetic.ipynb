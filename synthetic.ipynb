{
 "cells": [
  {
   "cell_type": "code",
   "execution_count": null,
   "metadata": {},
   "outputs": [],
   "source": [
    "# from analyzer import Analyzer\n",
    "# analyzer = Analyzer(n_client = 2, fedavg_rounds = 10,  fedavg_local_epochs = [1, 1], fedavg_local_lr = [0.1, 0.1],  \n",
    "#                     centralized_epochs = 200, centralized_lr=0.2, bf_range = 2.0, bf_step = 0.01)\n",
    "# analyzer.display_result()"
   ]
  },
  {
   "cell_type": "code",
   "execution_count": 3,
   "metadata": {},
   "outputs": [
    {
     "data": {
      "application/vnd.jupyter.widget-view+json": {
       "model_id": "d665712612434dac9da8cdcf3faeccef",
       "version_major": 2,
       "version_minor": 0
      },
      "text/plain": [
       "VBox(children=(VBox(children=(Output(), HBox(children=(Output(), VBox(children=(Label(value='Client 0 Paramete…"
      ]
     },
     "metadata": {},
     "output_type": "display_data"
    }
   ],
   "source": [
    "from analyzer import BFAnalyzer\n",
    "analyzer = BFAnalyzer(n_client = 2, fedavg_rounds = 10,  fedavg_local_epochs = [1, 1], fedavg_local_lr = [0.1, 0.1],  \n",
    "                    centralized_epochs = 100, centralized_lr=0.3, bf_range = 2.0, bf_step = 0.01)\n",
    "analyzer.display_result()\n",
    "# num_a_pos = N * n_a * alpha_a\n",
    "# num_a_neg = N * n_a * (1 - alpha_a)\n",
    "# num_b_pos = N * (1 - n_a) * alpha_b\n",
    "# num_b_neg = N * (1 - n_a) * (1 - alpha_b)"
   ]
  }
 ],
 "metadata": {
  "kernelspec": {
   "display_name": "base",
   "language": "python",
   "name": "python3"
  },
  "language_info": {
   "codemirror_mode": {
    "name": "ipython",
    "version": 3
   },
   "file_extension": ".py",
   "mimetype": "text/x-python",
   "name": "python",
   "nbconvert_exporter": "python",
   "pygments_lexer": "ipython3",
   "version": "3.12.4"
  }
 },
 "nbformat": 4,
 "nbformat_minor": 2
}
